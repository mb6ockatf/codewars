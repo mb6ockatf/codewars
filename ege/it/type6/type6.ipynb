{
 "cells": [
  {
   "cell_type": "code",
   "execution_count": 29,
   "id": "5212d8f0-01ab-4956-b820-5ceadde2aab5",
   "metadata": {},
   "outputs": [],
   "source": [
    "from turtle import speed, up, forward, right, goto, dot, left, reset, color\n",
    "\n",
    "\n",
    "def set_default():\n",
    "    speed(0)\n",
    "    left(90)\n",
    "    color(\"blue\")\n",
    "    return 30\n",
    "\n",
    "\n",
    "k = set_default()"
   ]
  },
  {
   "cell_type": "markdown",
   "id": "e7916a93-a3e8-4763-8463-555464dadfc3",
   "metadata": {},
   "source": [
    "# 47210"
   ]
  },
  {
   "cell_type": "code",
   "execution_count": 30,
   "id": "78eca9bd-3a51-46d3-95a5-3b90e4902373",
   "metadata": {},
   "outputs": [
    {
     "name": "stdin",
     "output_type": "stream",
     "text": [
      " \n"
     ]
    }
   ],
   "source": [
    "for i in range(7):\n",
    "    forward(10 * k)\n",
    "    right(120)\n",
    "up()\n",
    "for x in range(0, 10):\n",
    "    for y in range(0, 10):\n",
    "        goto(x * k, y * k)\n",
    "        dot(4)\n",
    "input()\n",
    "reset()"
   ]
  },
  {
   "cell_type": "markdown",
   "id": "7561ef71-5ad6-4a3d-afd2-ad8beab7ac49",
   "metadata": {},
   "source": [
    "# 47303"
   ]
  },
  {
   "cell_type": "code",
   "execution_count": 31,
   "id": "a69b7b61-55a7-4208-9da8-583ef5f2d301",
   "metadata": {},
   "outputs": [
    {
     "name": "stdin",
     "output_type": "stream",
     "text": [
      " \n"
     ]
    }
   ],
   "source": [
    "k = set_default()\n",
    "for _ in range(4):\n",
    "    forward(5 * k)\n",
    "    right(90)\n",
    "    forward(10 * k)\n",
    "    right(90)\n",
    "up()\n",
    "for x in range(0, 12):\n",
    "    for y in range(0, 8):\n",
    "        goto(x * k, y * k)\n",
    "        dot(6)\n",
    "input()\n",
    "reset()"
   ]
  },
  {
   "cell_type": "markdown",
   "id": "d21292b7-3458-455e-bfcd-49b32bf026f7",
   "metadata": {},
   "source": [
    "# 47307"
   ]
  },
  {
   "cell_type": "code",
   "execution_count": 32,
   "id": "af5e862f-862e-42cd-b829-be3d1909dc94",
   "metadata": {},
   "outputs": [
    {
     "name": "stdin",
     "output_type": "stream",
     "text": [
      " \n"
     ]
    }
   ],
   "source": [
    "k = set_default()\n",
    "for _ in range(4):\n",
    "    forward(10 * k)\n",
    "    right(60)\n",
    "    forward(10 * k)\n",
    "    right(120)\n",
    "up()\n",
    "for x in range(0, 10):\n",
    "    for y in range(0, 15):\n",
    "        goto(x * k, y * k)\n",
    "        dot(6, \"orange\")\n",
    "input()\n",
    "reset()"
   ]
  },
  {
   "cell_type": "markdown",
   "id": "abfe9b9f-cf98-478b-8442-0170392aa1aa",
   "metadata": {},
   "source": [
    "# 47390"
   ]
  },
  {
   "cell_type": "code",
   "execution_count": 33,
   "id": "da0fddfe-0ccc-4aa8-9699-617835a34a60",
   "metadata": {},
   "outputs": [
    {
     "name": "stdin",
     "output_type": "stream",
     "text": [
      " \n"
     ]
    }
   ],
   "source": [
    "k = set_default()\n",
    "for _ in range(12):\n",
    "    right(60)\n",
    "    forward(1 * k)\n",
    "    right(60)\n",
    "    forward(1 * k)\n",
    "    right(270)\n",
    "up()\n",
    "for x in range(-3, 6):\n",
    "    for y in range(-7, 2):\n",
    "        goto(x * k, y * k)\n",
    "        dot(6, \"orange\")\n",
    "input()\n",
    "reset()"
   ]
  },
  {
   "cell_type": "markdown",
   "id": "9749cb83-d817-4e8e-a1f3-b268b7c53007",
   "metadata": {},
   "source": [
    "# 47404"
   ]
  },
  {
   "cell_type": "code",
   "execution_count": 34,
   "id": "ffe7fd75-c1ac-445b-9e2d-677c43efd5ff",
   "metadata": {},
   "outputs": [
    {
     "name": "stdin",
     "output_type": "stream",
     "text": [
      " \n"
     ]
    }
   ],
   "source": [
    "k = set_default()\n",
    "for _ in range(4):\n",
    "    forward(10 * k)\n",
    "    right(90)\n",
    "right(30)\n",
    "color(\"purple\")\n",
    "for _ in range(5):\n",
    "    forward(6 * k)\n",
    "    right(60)\n",
    "    forward(6 * k)\n",
    "    right(120)\n",
    "up()\n",
    "for x in range(-2, 12):\n",
    "    for y in range(-1, 11):\n",
    "        goto(x * k, y * k)\n",
    "        dot(6, \"pink\")\n",
    "input()\n",
    "reset()"
   ]
  },
  {
   "cell_type": "markdown",
   "id": "a1f8238a-47db-4799-a6e5-e17b0d8b1a13",
   "metadata": {},
   "source": [
    "# 58245"
   ]
  },
  {
   "cell_type": "code",
   "execution_count": 36,
   "id": "320d0cdf-cbf9-41c0-ac34-0df2917c6211",
   "metadata": {},
   "outputs": [
    {
     "name": "stdin",
     "output_type": "stream",
     "text": [
      " \n"
     ]
    }
   ],
   "source": [
    "k = set_default()\n",
    "right(60)\n",
    "for _ in range(2):\n",
    "    forward(10 * k)\n",
    "    right(120)\n",
    "    forward(5 * k)\n",
    "    right(240)\n",
    "right(120)\n",
    "forward(3 * k)\n",
    "right(90)\n",
    "forward(k * 20 * sqrt(3))\n",
    "right(90)\n",
    "forward(8 * k)\n",
    "right(120)\n",
    "for _ in range(2):\n",
    "    forward(10 * k)\n",
    "    left(120)\n",
    "    forward(5 * k)\n",
    "    left(240)\n",
    "up()\n",
    "for x in range(-18, 20):\n",
    "    for y in range(-4, 8):\n",
    "        goto(x * k, y * k)\n",
    "        dot(6, \"orange\")\n",
    "input()\n",
    "reset()"
   ]
  },
  {
   "cell_type": "markdown",
   "id": "f300099b-9c3e-4caf-847b-413b49b26405",
   "metadata": {},
   "source": [
    "# 59684"
   ]
  },
  {
   "cell_type": "code",
   "execution_count": 37,
   "id": "c1c7368e-78f3-4146-a876-f6afb8394128",
   "metadata": {},
   "outputs": [
    {
     "name": "stdin",
     "output_type": "stream",
     "text": [
      " \n"
     ]
    }
   ],
   "source": [
    "k = set_default()\n",
    "for _ in range(2):\n",
    "    forward(10 * k)\n",
    "    right(90)\n",
    "    forward(18 * k)\n",
    "    right(90)\n",
    "up()\n",
    "forward(5 * k)\n",
    "right(90)\n",
    "forward(7 * k)\n",
    "left(90)\n",
    "down()\n",
    "for _ in range(2):\n",
    "    forward(10 * k)\n",
    "    right(90)\n",
    "    forward(7 * k)\n",
    "    right(90)\n",
    "up()\n",
    "for x in range(0, 20):\n",
    "    for y in range(0, 16):\n",
    "        goto(x * k, y * k)\n",
    "        dot(6, \"orange\")\n",
    "input()\n",
    "reset()"
   ]
  }
 ],
 "metadata": {
  "kernelspec": {
   "display_name": "Python 3 (ipykernel)",
   "language": "python",
   "name": "python3"
  },
  "language_info": {
   "codemirror_mode": {
    "name": "ipython",
    "version": 3
   },
   "file_extension": ".py",
   "mimetype": "text/x-python",
   "name": "python",
   "nbconvert_exporter": "python",
   "pygments_lexer": "ipython3",
   "version": "3.11.6"
  }
 },
 "nbformat": 4,
 "nbformat_minor": 5
}
