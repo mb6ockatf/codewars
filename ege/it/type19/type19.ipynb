{
 "cells": [
  {
   "cell_type": "markdown",
   "id": "1ef7002c-702e-4b13-b2b8-3292b0532c05",
   "metadata": {},
   "source": [
    "# 27747"
   ]
  },
  {
   "cell_type": "code",
   "execution_count": 2,
   "id": "eeca2f4d-2392-42a0-8334-d4c1cd3108fc",
   "metadata": {},
   "outputs": [
    {
     "name": "stdout",
     "output_type": "stream",
     "text": [
      "13\n"
     ]
    }
   ],
   "source": [
    "def f(x, h) -> bool:\n",
    "    if 52 <= x and h == 3:\n",
    "        return True\n",
    "    elif h == 3 and 52 > x or h < 3 and 52 <= x:\n",
    "        return False\n",
    "    else:\n",
    "        h += 1\n",
    "        return f(x + 1, h) or f(x + 4, h) or f(x * 2, h)\n",
    "\n",
    "for S in range(1, 50):\n",
    "    if f(S, 1):\n",
    "        print(S)\n",
    "        break"
   ]
  },
  {
   "cell_type": "markdown",
   "id": "1b8568bd-c064-4f11-9c4d-75ca9e7774c5",
   "metadata": {},
   "source": [
    "# 27750"
   ]
  },
  {
   "cell_type": "code",
   "execution_count": 3,
   "id": "44b5d647-ff31-4bbc-a122-b0f2adfbb546",
   "metadata": {},
   "outputs": [
    {
     "name": "stdout",
     "output_type": "stream",
     "text": [
      "18\n"
     ]
    }
   ],
   "source": [
    "def f(x, y, h):\n",
    "    if (h == 3 or h == 5) and x + y >= 82:\n",
    "        return 1\n",
    "    elif h == 5 and x + y < 82:\n",
    "        return 0\n",
    "    elif x + y >= 82 and h < 5:\n",
    "        return 0\n",
    "    else:\n",
    "        if h % 2 == 0:\n",
    "            return (\n",
    "                f(x + 1, y, h + 1)\n",
    "                or f(x, y + 1, h + 1)\n",
    "                or f(x * 4, y, h + 1)\n",
    "                or f(x, y * 4, h + 1)\n",
    "            )\n",
    "        else:\n",
    "            return (\n",
    "                f(x + 1, y, h + 1)\n",
    "                and f(x, y + 1, h + 1)\n",
    "                and f(x * 4, y, h + 1)\n",
    "                and f(x, y * 4, h + 1)\n",
    "            )\n",
    "\n",
    "\n",
    "def f1(x, y, h):\n",
    "    if h == 3 and x + y >= 82:\n",
    "        return 1\n",
    "    elif h == 3 and x + y < 82:\n",
    "        return 0\n",
    "    elif x + y >= 82 and h < 3:\n",
    "        return 0\n",
    "    else:\n",
    "        if h % 2 == 0:\n",
    "            return (\n",
    "                f1(x + 1, y, h + 1)\n",
    "                or f1(x, y + 1, h + 1)\n",
    "                or f1(x * 4, y, h + 1)\n",
    "                or f1(x, y * 4, h + 1)\n",
    "            )\n",
    "        else:\n",
    "            return (\n",
    "                f1(x + 1, y, h + 1)\n",
    "                and f1(x, y + 1, h + 1)\n",
    "                and f1(x * 4, y, h + 1)\n",
    "                and f1(x, y * 4, h + 1)\n",
    "            )\n",
    "\n",
    "\n",
    "for x in range(1, 78):\n",
    "    if f(x, 4, 1) == 1:\n",
    "        print(x)\n",
    "for x in range(1, 78):\n",
    "    if f1(x, 4, 1) == 1:\n",
    "        print(x)"
   ]
  },
  {
   "cell_type": "markdown",
   "id": "b45a65fa-259c-464b-aab6-4899f4779d38",
   "metadata": {},
   "source": [
    "# 27754"
   ]
  },
  {
   "cell_type": "code",
   "execution_count": 4,
   "id": "2008ee6a-54e7-4f05-bffe-15f2c2ca162a",
   "metadata": {},
   "outputs": [
    {
     "name": "stdout",
     "output_type": "stream",
     "text": [
      "4\n"
     ]
    }
   ],
   "source": [
    "def f(x, y, h):\n",
    "    if h == 3 and x + y >= 61:\n",
    "        return True\n",
    "    elif h == 3 and x + y < 61:\n",
    "        return 0\n",
    "    elif h < 3 and x + y >= 61:\n",
    "        return False\n",
    "    if h % 2 == 0:\n",
    "        return (\n",
    "            f(x + 1, y, h + 1)\n",
    "            or f(x * 4, y, h + 1)\n",
    "            or f(x, y + 1, h + 1)\n",
    "            or f(x, y * 4, h + 1)\n",
    "        )\n",
    "    else:\n",
    "        return (\n",
    "            f(x + 1, y, h + 1)\n",
    "            or f(x * 4, y, h + 1)\n",
    "            or f(x, y + 1, h + 1)\n",
    "            or f(x, y * 4, h + 1)\n",
    "        )\n",
    "\n",
    "\n",
    "for S in range(1, 58):\n",
    "    if f(3, S, 1) == 1:\n",
    "        print(S)\n",
    "        break"
   ]
  },
  {
   "cell_type": "markdown",
   "id": "b6db8495-0484-498e-bf56-e6beaf4463f6",
   "metadata": {},
   "source": [
    "# 27755"
   ]
  },
  {
   "cell_type": "code",
   "execution_count": 5,
   "id": "d8bab985-03b9-419d-b89f-687e3c280989",
   "metadata": {},
   "outputs": [
    {
     "name": "stdout",
     "output_type": "stream",
     "text": [
      "12\n",
      "14\n"
     ]
    }
   ],
   "source": [
    "def f(x, y, h):\n",
    "    if h == 4 and x + y >= 61:\n",
    "        return True\n",
    "    elif h == 4 and x + y < 61:\n",
    "        return False\n",
    "    elif h < 4 and x + y >= 61:\n",
    "        return False\n",
    "    if h % 2 != 0:\n",
    "        return (\n",
    "            f(x + 1, y, h + 1)\n",
    "            or f(x * 4, y, h + 1)\n",
    "            or f(x, y + 1, h + 1)\n",
    "            or f(x, y * 4, h + 1)\n",
    "        )\n",
    "    else:\n",
    "        return (\n",
    "            f(x + 1, y, h + 1)\n",
    "            and f(x * 4, y, h + 1)\n",
    "            and f(x, y + 1, h + 1)\n",
    "            and f(x, y * 4, h + 1)\n",
    "        )\n",
    "\n",
    "\n",
    "for S in range(1, 58):\n",
    "    if f(3, S, 1):\n",
    "        print(S)"
   ]
  },
  {
   "cell_type": "markdown",
   "id": "2842e6ed-0097-40c2-a03a-272d67a9a49b",
   "metadata": {},
   "source": [
    "# 27756"
   ]
  },
  {
   "cell_type": "code",
   "execution_count": null,
   "id": "d5c6ff25-6996-4beb-9140-c6293da65ea6",
   "metadata": {},
   "outputs": [],
   "source": [
    "def f(x, y, h):\n",
    "    if (h == 3 or h == 5) and x + y >= 61:\n",
    "        return 1\n",
    "    elif h == 5 and x + y < 61:\n",
    "        return 0\n",
    "    elif x + y >= 61 and h < 5:\n",
    "        return 0\n",
    "    else:\n",
    "        if h % 2 == 0:\n",
    "            return (\n",
    "                f(x + 1, y, h + 1)\n",
    "                or f(x, y + 1, h + 1)\n",
    "                or f(x * 4, y, h + 1)\n",
    "                or f(x, y * 4, h + 1)\n",
    "            )\n",
    "        else:\n",
    "            return (\n",
    "                f(x + 1, y, h + 1)\n",
    "                and f(x, y + 1, h + 1)\n",
    "                and f(x * 4, y, h + 1)\n",
    "                and f(x, y * 4, h + 1)\n",
    "            )\n",
    "\n",
    "\n",
    "def f1(x, y, h):\n",
    "    if h == 3 and x + y >= 61:\n",
    "        return 1\n",
    "    elif h == 3 and x + y < 61:\n",
    "        return 0\n",
    "    elif x + y >= 61 and h < 3:\n",
    "        return 0\n",
    "    else:\n",
    "        if h % 2 == 0:\n",
    "            return (\n",
    "                f1(x + 1, y, h + 1)\n",
    "                or f1(x, y + 1, h + 1)\n",
    "                or f1(x * 4, y, h + 1)\n",
    "                or f1(x, y * 4, h + 1)\n",
    "            )\n",
    "        else:\n",
    "            return (\n",
    "                f1(x + 1, y, h + 1)\n",
    "                and f1(x, y + 1, h + 1)\n",
    "                and f1(x * 4, y, h + 1)\n",
    "                and f1(x, y * 4, h + 1)\n",
    "            )\n",
    "\n",
    "\n",
    "for x in range(1, 58):\n",
    "    if f(x, 3, 1) == 1:\n",
    "        print(x)\n",
    "for x in range(1, 58):\n",
    "    if f1(x, 3, 1) == 1:\n",
    "        print(x)"
   ]
  },
  {
   "cell_type": "markdown",
   "id": "7da2592c-0236-4845-aa45-3a8795cccaf6",
   "metadata": {},
   "source": [
    "# 27790"
   ]
  },
  {
   "cell_type": "code",
   "execution_count": 7,
   "id": "db0234d7-6d51-40bd-81ec-d93603782f52",
   "metadata": {},
   "outputs": [
    {
     "name": "stdout",
     "output_type": "stream",
     "text": [
      "13\n"
     ]
    }
   ],
   "source": [
    "def f(x, y, h):\n",
    "    if h == 4 and x + y >= 62:\n",
    "        return True\n",
    "    elif h == 3 and x + y < 62:\n",
    "        return False\n",
    "    elif h < 3 and x + y >= 62:\n",
    "        return False\n",
    "    if h % 2 == 0:\n",
    "        return (\n",
    "            f(x + 1, y, h + 1)\n",
    "            or f(x * 2, y, h + 1)\n",
    "            or f(x, y + 1, h + 1)\n",
    "            or f(x, y * 2, h + 1)\n",
    "        )\n",
    "    else:\n",
    "        return (\n",
    "            f(x + 1, y, h + 1)\n",
    "            or f(x * 2, y, h + 1)\n",
    "            or f(x, y + 1, h + 1)\n",
    "            or f(x, y * 2, h + 1)\n",
    "        )\n",
    "\n",
    "\n",
    "for S in range(1, 52):\n",
    "    if f(10, S, 1) == 1:\n",
    "        print(S)\n",
    "        break"
   ]
  },
  {
   "cell_type": "markdown",
   "id": "aad28719-c3b3-4b35-9a0f-cce79e78586d",
   "metadata": {},
   "source": [
    "# 27791"
   ]
  },
  {
   "cell_type": "code",
   "execution_count": 8,
   "id": "362f159c-dc4a-4e8e-97ea-fc69b7add831",
   "metadata": {},
   "outputs": [
    {
     "name": "stdout",
     "output_type": "stream",
     "text": [
      "20\n",
      "25\n"
     ]
    }
   ],
   "source": [
    "def f(x, y, h):\n",
    "    if h == 4 and x + y >= 62:\n",
    "        return True\n",
    "    elif h == 4 and x + y < 62:\n",
    "        return False\n",
    "    elif h < 4 and x + y >= 62:\n",
    "        return False\n",
    "    if h % 2 != 0:\n",
    "        return (\n",
    "            f(x + 1, y, h + 1)\n",
    "            or f(x * 2, y, h + 1)\n",
    "            or f(x, y + 1, h + 1)\n",
    "            or f(x, y * 2, h + 1)\n",
    "        )\n",
    "    else:\n",
    "        return (\n",
    "            f(x + 1, y, h + 1)\n",
    "            and f(x * 2, y, h + 1)\n",
    "            and f(x, y + 1, h + 1)\n",
    "            and f(x, y * 2, h + 1)\n",
    "        )\n",
    "\n",
    "\n",
    "for S in range(1, 52):\n",
    "    if f(10, S, 1) == 1:\n",
    "        print(S)"
   ]
  },
  {
   "cell_type": "markdown",
   "id": "06ff6c8c-99b1-4d8c-ac3c-54308e76b490",
   "metadata": {},
   "source": [
    "# 27792"
   ]
  },
  {
   "cell_type": "code",
   "execution_count": 9,
   "id": "512ab79b-c813-43cb-a75c-2fee28d52961",
   "metadata": {},
   "outputs": [
    {
     "name": "stdout",
     "output_type": "stream",
     "text": [
      "24\n"
     ]
    }
   ],
   "source": [
    "#!/usr/bin/env pypy3\n",
    "def f(x, y, h):\n",
    "    if h in (3, 5) and x + y >= 62:\n",
    "        return True\n",
    "    elif h == 5 and x + y < 62:\n",
    "        return False\n",
    "    elif h < 5 and x + y >= 62:\n",
    "        return False\n",
    "    if h % 2 == 0:\n",
    "        return (\n",
    "            f(x + 1, y, h + 1)\n",
    "            or f(x * 2, y, h + 1)\n",
    "            or f(x, y + 1, h + 1)\n",
    "            or f(x, y * 2, h + 1)\n",
    "        )\n",
    "    else:\n",
    "        return (\n",
    "            f(x + 1, y, h + 1)\n",
    "            and f(x * 2, y, h + 1)\n",
    "            and f(x, y + 1, h + 1)\n",
    "            and f(x, y * 2, h + 1)\n",
    "        )\n",
    "\n",
    "\n",
    "def f1(x, y, h):\n",
    "    if h == 3 and x + y >= 62:\n",
    "        return True\n",
    "    elif h == 3 and x + y > 62:\n",
    "        return 0\n",
    "    elif h < 3 and x + y <= 62:\n",
    "        return False\n",
    "    if h % 2 == 0:\n",
    "        return (\n",
    "            f(x + 1, y, h + 1)\n",
    "            or f(x * 2, y, h + 1)\n",
    "            or f(x, y + 1, h + 1)\n",
    "            or f(x, y * 2, h + 1)\n",
    "        )\n",
    "    else:\n",
    "        return (\n",
    "            f(x + 1, y, h + 1)\n",
    "            and f(x * 2, y, h + 1)\n",
    "            and f(x, y + 1, h + 1)\n",
    "            and f(x, y * 2, h + 1)\n",
    "        )\n",
    "\n",
    "\n",
    "for S in range(1, 52):\n",
    "    if f(10, S, 1) == 1:\n",
    "        print(S)"
   ]
  }
 ],
 "metadata": {
  "kernelspec": {
   "display_name": "Python 3 (ipykernel)",
   "language": "python",
   "name": "python3"
  },
  "language_info": {
   "codemirror_mode": {
    "name": "ipython",
    "version": 3
   },
   "file_extension": ".py",
   "mimetype": "text/x-python",
   "name": "python",
   "nbconvert_exporter": "python",
   "pygments_lexer": "ipython3",
   "version": "3.11.6"
  }
 },
 "nbformat": 4,
 "nbformat_minor": 5
}
